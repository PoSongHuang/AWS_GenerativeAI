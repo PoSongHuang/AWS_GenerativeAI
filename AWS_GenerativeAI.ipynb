{
 "cells": [
  {
   "cell_type": "code",
   "execution_count": 4,
   "metadata": {},
   "outputs": [],
   "source": [
    "from kmodes.kmodes import KModes\n",
    "import numpy as np\n",
    "import pandas as pd\n",
    "\n",
    "file = '../Data/東森/20250407_標籤名單.xlsx'\n",
    "df = pd.read_excel(file, sheet_name='rawdata')\n",
    "\n",
    "label_names = df['標籤名稱'].unique()\n",
    "df_simple = df[['客代', '標籤名稱', '標籤值']]\n",
    "\n",
    "df_pivot = df_simple.pivot_table(index='客代',\n",
    "                                 columns='標籤名稱',\n",
    "                                 values='標籤值',\n",
    "                                 aggfunc=lambda x: '、'.join(map(str, x.unique()))) \n",
    "\n",
    "df_pivot = df_pivot.reset_index()\n",
    "selected_columns = ['會員等級', '是否有高健康意識', '保健瀏覽', '職業']\n",
    "\n",
    "df_pivot = df_pivot.fillna('未知')\n",
    "df_pivot_cluster = df_pivot[selected_columns].copy()\n",
    "\n",
    "costs = []\n",
    "models = []\n",
    "K = range(2, 11)\n",
    "\n",
    "for k in K:\n",
    "    kmodes = KModes(n_clusters=k, init='Huang', n_init=5, verbose=0)\n",
    "    kmodes.fit(df_pivot_cluster)\n",
    "    costs.append(kmodes.cost_)\n",
    "    models.append(kmodes)\n",
    "\n",
    "\n",
    "p1 = np.array([K[0], costs[0]])\n",
    "p2 = np.array([K[-1], costs[-1]])\n",
    "\n",
    "def distance_to_line(p, p1, p2):\n",
    "    return np.abs(np.cross(p2-p1, p1-p)) / np.linalg.norm(p2-p1)\n",
    "\n",
    "distances = [distance_to_line(np.array([k, cost]), p1, p2) for k, cost in zip(K, costs)]\n",
    "\n",
    "optimal_idx = np.argmax(distances)\n",
    "optimal_k = K[optimal_idx]\n",
    "\n",
    "kmodes_final = models[optimal_idx]\n",
    "clusters = kmodes_final.predict(df_pivot_cluster)\n",
    "df_pivot_cluster['群編號'] = clusters\n",
    "df_pivot['群編號'] = clusters\n",
    "df_pivot_cluster.to_csv('Cluster.csv', index=False, encoding='utf-8-sig')\n",
    "df_pivot.to_csv('Customer_Data_cluster.csv', index=False, encoding='utf-8-sig')\n"
   ]
  }
 ],
 "metadata": {
  "kernelspec": {
   "display_name": "Python 3",
   "language": "python",
   "name": "python3"
  },
  "language_info": {
   "codemirror_mode": {
    "name": "ipython",
    "version": 3
   },
   "file_extension": ".py",
   "mimetype": "text/x-python",
   "name": "python",
   "nbconvert_exporter": "python",
   "pygments_lexer": "ipython3",
   "version": "3.11.5"
  }
 },
 "nbformat": 4,
 "nbformat_minor": 2
}
